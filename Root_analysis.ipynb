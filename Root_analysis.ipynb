{
 "cells": [
  {
   "cell_type": "markdown",
   "metadata": {},
   "source": [
    "# Are England historically Root(ed) without Joe?\n",
    "\n",
    "### A historical comparison of the dependence of the current England Cricket Team on Joe Root scoring runs\n",
    "\n",
    "At present (September 2021) Joe Root is in the form of his life. The remainder of the England batting line-up, however, is not. The conjecture is that this England Test side is more dependent on Joe Root scoring big runs than nearly any other side in modern cricketing history. A suggested comparison is the reliance of the late 1990's / early 2000's West Indies side on Brian Lara. But is this conjecture borne out in the data? This notebook analyses year-by-year Test batting statistics (appreciating this may not be the most appropriate temporal window available) to determine whether England really are Root(ed) without Joe."
   ]
  },
  {
   "cell_type": "markdown",
   "metadata": {},
   "source": [
    "# Assumptions & Input Data\n",
    "\n",
    "### Governing Assumptions\n",
    "\n",
    "* The assumptions detailed are relevant across:-\n",
    "    * All time periods - no temporal variation is acocunted for\n",
    "    * All teams - no particular adjustment is made for changes in team situation (i.e. new Test playing nations like Afghanistan are treated the same as England and Australia)\n",
    "    * All locations - no delineation is made between home and away matches\n",
    "    * All players - no delineation is made between those players deemed batters, and those not\n",
    "* This analysis considers only Men's Test Cricket currently. A similar statistical analysis for Women's Test Cricket is in the works\n",
    "\n",
    "\n",
    "### Input data\n",
    "* Input data (drawn from CricInfor StatsGuru platform) is assumed to be correct in full, and complete to the latest matches\n",
    "* Total runs scored by each Test playing nation is extracted on a year-by-year basis\n",
    "* Total runs scored by the top 50 run scorers across all test playing nations is extracted on a year-by-year basis. The top 50 has been selected as good representation of the likely top scorers for all nations, thereby capturing data necessary to analyse team reliance\n",
    "* The temporal windowing on year-by-year data (i.e. assessment of calendar years) may not be the most appropriate window available. However, in the first instance, it is the most readily accesible window given data is categorised into calendar years.\n"
   ]
  },
  {
   "cell_type": "markdown",
   "metadata": {},
   "source": [
    "# Methodology\n",
    "\n",
    "The methodology to analyse the historical context of the England Team's current reliance on Joe Root's batting output is defined below. This question can be posed in a number of ways, such as:-\n",
    "\n",
    "* Does Joe Root score a historically high proportion of England's test runs for the current team?\n",
    "* What is the probability of England posting a large innings score, given Joe Root makes above 50? And how does this compare to historical probabilities for other player / team combinations?\n",
    "* What is the probability of England posting a large innings score, given Joe Roo makes below 50? And how does this compare to historical probabilities for other player / team combinations?\n",
    "* What is the average England innings total, given a score by Joe Root within defined intervals (i.e. 0-10, 10-20, 20-30 etc.)?And how does this compare to historical averages for other player / team combinations?\n",
    "\n",
    "All questions posed above will tell us something above England's reliance on Root. However, they will also all provide subtly different information. For example, assessment of innings data will remove skew due to very-large scores. As noted when defining input data, a year-by-year cumulative approach is adopted, which neglects analyses on a inidivudal innings-by-innings basis. It is assumed that year-by-year statistics are a good approximation of match-by-match performance, however this bears further scrutiny in future analyses. Given the year-by-year approach, this analysis will initially focus on the proportion of runs scored in Tests by Joe Root (and others), relative to their team scores. \n",
    "\n",
    "Therefore, reliance here is defined as the proportion of player to team runs. The higher this proportion, the higher the team relies on said player. A naive assumptions may be that this proportion should be equal to 1/11 = 9.09 %. This of course does not account for the skills disparity between batters and non-batters, and therefore a more reasonable assumption (where we define numbers 1-7 as batters) may be ~12.1 %. This number derives from an assumption the top 7 will score 85 % of the teams runs, spread evenly across all players. Of course, we may refine this assumption further. However, for the purposes of this analysise, let us assume that a reasonably expected baseline for player/team reliance is ~12.1 %. Any figure higher than this would indicate a batter on whom the team may rely more than your average batter. To the extreme, we may consider \"A Bannerman\" as the limit of this reliance percentage. That is, the 67.35 % of Australian first innings runs that Charles Bannerman scored with his 165 runs out of 245 total in the first ever test match (also the first ever Test innings, defined many years post). If we consider player / team reliance for batters to lie somewhere on the range 12.1 % - 67.35 % we have a reasonable (albeit vague) guide of what to expect.\n",
    "\n",
    "When we consider year-by-year cumulative figures we also tend to smooth out anomalies. For example, Kyle Mayers may have had a high reliance ranking after his double century in his first test match against Bangladesh in 2021. This has surely reduced in subsquent outings. The calendar year delineation is an arbitrary temporal window, but one that is regularly used in cricketing statistical analysis. We will stick with this windowing. \n",
    "\n",
    "The result of this analysis is a ranking of reliance across Men's Test match history. This means players may well appear in the ranking multiple times for multiple years. Back to our original question, we will use this ranking to determine if the current England Team does indeed rely in historically unprecedented manner on Joe Root. "
   ]
  },
  {
   "cell_type": "markdown",
   "metadata": {},
   "source": [
    "# Analysis"
   ]
  },
  {
   "cell_type": "code",
   "execution_count": null,
   "metadata": {},
   "outputs": [],
   "source": [
    "# Root_analysis.py\n",
    "# ###############################################\n",
    "# Author: J Jorgensen\n",
    "# Date: 06/09/2021\n",
    "# Function: batsman4s\n",
    "# This function analyses the historical batting player / team reliance for test cricket \n",
    "#################################################"
   ]
  },
  {
   "cell_type": "code",
   "execution_count": 66,
   "metadata": {},
   "outputs": [],
   "source": [
    "# Import required modules\n",
    "import numpy as np\n",
    "import pandas as pd\n",
    "import scipy\n",
    "from matplotlib import pyplot as plt"
   ]
  },
  {
   "cell_type": "code",
   "execution_count": 44,
   "metadata": {},
   "outputs": [],
   "source": [
    "# Set-up parameters for data ingest from CricInfo Statsguru\n",
    "# Initialize url to \"\"\n",
    "url = \"\"\n",
    "suburl1 = \"http://stats.espncricinfo.com/ci/engine/stats/index.html\"\n",
    "\n",
    "# Match type - set to tests\n",
    "match_type = \"?class=1;\"\n",
    "\n",
    "# Test teams\n",
    "teams = [\"Afghanistan\", \"Australia\", \"Bangladesh\", \"England\", \"ICC World XI\", \"India\",\n",
    "        \"Ireland\", \"New Zealand\", \"Pakistan\", \"South Africa\", \"Sri Lanka\", \"West Indies\",\n",
    "        \"Zimbabwe\"]\n",
    "\n",
    "# Setting calendar year span\n",
    "spanmax = \"spanmax1=31+Dec+\"\n",
    "spanmin = \";spanmin1=01+Jan+\"\n",
    "spanval = \";spanval1=span;\"\n",
    "\n",
    "# Setting results type to template, and stats type to batting\n",
    "template = \";template=results;\"\n",
    "player_batting = \"type=batting\"\n",
    "team_batting = \"type=team;\"\n",
    "match = \"view=match\"\n",
    "\n",
    "# Set year runs\n",
    "years = np.arange(1877, 2022,1)\n",
    "years = np.char.mod('%d', years)\n"
   ]
  },
  {
   "cell_type": "code",
   "execution_count": 137,
   "metadata": {},
   "outputs": [
    {
     "ename": "TypeError",
     "evalue": "unsupported operand type(s) for /: 'str' and 'int'",
     "output_type": "error",
     "traceback": [
      "\u001b[1;31m---------------------------------------------------------------------------\u001b[0m",
      "\u001b[1;31mTypeError\u001b[0m                                 Traceback (most recent call last)",
      "\u001b[1;32m<ipython-input-137-673723d81689>\u001b[0m in \u001b[0;36m<module>\u001b[1;34m\u001b[0m\n\u001b[0;32m     28\u001b[0m \u001b[1;33m\u001b[0m\u001b[0m\n\u001b[0;32m     29\u001b[0m             \u001b[1;31m# Calculate maximum reliance for that team for that year, and harvest player name\u001b[0m\u001b[1;33m\u001b[0m\u001b[1;33m\u001b[0m\u001b[1;33m\u001b[0m\u001b[0m\n\u001b[1;32m---> 30\u001b[1;33m             \u001b[0mreliance\u001b[0m\u001b[1;33m[\u001b[0m\u001b[0mi\u001b[0m\u001b[1;33m,\u001b[0m\u001b[0mj\u001b[0m\u001b[1;33m]\u001b[0m \u001b[1;33m=\u001b[0m \u001b[0mdf_players\u001b[0m\u001b[1;33m[\u001b[0m\u001b[1;34m\"Runs\"\u001b[0m\u001b[1;33m]\u001b[0m\u001b[1;33m[\u001b[0m\u001b[1;36m0\u001b[0m\u001b[1;33m]\u001b[0m \u001b[1;33m/\u001b[0m \u001b[0msum\u001b[0m\u001b[1;33m(\u001b[0m\u001b[0mdf_team\u001b[0m\u001b[1;33m[\u001b[0m\u001b[1;34m\"Runs\"\u001b[0m\u001b[1;33m]\u001b[0m\u001b[1;33m)\u001b[0m\u001b[1;33m\u001b[0m\u001b[1;33m\u001b[0m\u001b[0m\n\u001b[0m\u001b[0;32m     31\u001b[0m             \u001b[0mplayers\u001b[0m\u001b[1;33m[\u001b[0m\u001b[0mi\u001b[0m\u001b[1;33m,\u001b[0m\u001b[0mj\u001b[0m\u001b[1;33m]\u001b[0m \u001b[1;33m=\u001b[0m \u001b[0mdf_players\u001b[0m\u001b[1;33m[\u001b[0m\u001b[1;34m\"Player\"\u001b[0m\u001b[1;33m]\u001b[0m\u001b[1;33m[\u001b[0m\u001b[1;36m0\u001b[0m\u001b[1;33m]\u001b[0m\u001b[1;33m\u001b[0m\u001b[1;33m\u001b[0m\u001b[0m\n",
      "\u001b[1;31mTypeError\u001b[0m: unsupported operand type(s) for /: 'str' and 'int'"
     ]
    }
   ],
   "source": [
    "# Ingest data from CricInfo Statsguru & Calculate calendar year reliance\n",
    "\n",
    "# Set-up reliance database\n",
    "\n",
    "reliance = np.zeros((len(years), len(teams)))\n",
    "players = np.empty([len(years), len(teams)], dtype=\"S30\")\n",
    "\n",
    "\n",
    "for j in range(0,9):#len(teams)):\n",
    "    \n",
    "    for i in range(0,len(years)):\n",
    "\n",
    "        # Set-up urls\n",
    "        url_players = suburl1 + match_type + spanmax + years[i] + spanmin + years[i] + spanval + \"team=\" + str(j+1) + template + player_batting\n",
    "        url_team = suburl1 + match_type + spanmax + years[i] + spanmin + years[i] + spanval + \"team=\" + str(j+1) + template + team_batting + match\n",
    "        \n",
    "        # Read data from url\n",
    "        dfList_players = pd.read_html(url_players)\n",
    "        dfList_team = pd.read_html(url_team)\n",
    "        \n",
    "        # Calculate maximum reliance for that team for that year, and harvest player name\n",
    "        if dfList_team[2].iloc[0,0] == \"No records available to match this query\":\n",
    "            reliance[i,j] = 0\n",
    "            players[i,j] = ''\n",
    "        else:\n",
    "            df_players = dfList_players[2]\n",
    "            df_team  = dfList_team[2]\n",
    "            \n",
    "            # Calculate maximum reliance for that team for that year, and harvest player name\n",
    "            reliance[i,j] = df_players[\"Runs\"][0] / sum(df_team[\"Runs\"])\n",
    "            players[i,j] = df_players[\"Player\"][0]\n"
   ]
  },
  {
   "cell_type": "code",
   "execution_count": 145,
   "metadata": {},
   "outputs": [
    {
     "data": {
      "text/plain": [
       "0     413\n",
       "1     303\n",
       "2     278\n",
       "3     209\n",
       "4     207\n",
       "5     187\n",
       "6     181\n",
       "7     164\n",
       "8      88\n",
       "9      65\n",
       "10     58\n",
       "11     55\n",
       "12     52\n",
       "13     51\n",
       "14     44\n",
       "15     43\n",
       "16     42\n",
       "17     41\n",
       "18     31\n",
       "19     31\n",
       "20     29\n",
       "21     28\n",
       "22     24\n",
       "23     23\n",
       "24     23\n",
       "25     20\n",
       "26     18\n",
       "27     17\n",
       "28      9\n",
       "29      8\n",
       "30      7\n",
       "31      7\n",
       "32      6\n",
       "33      4\n",
       "34      -\n",
       "Name: Runs, dtype: object"
      ]
     },
     "execution_count": 145,
     "metadata": {},
     "output_type": "execute_result"
    }
   ],
   "source": [
    "df_players[\"Runs\"]"
   ]
  }
 ],
 "metadata": {
  "kernelspec": {
   "display_name": "Python 3",
   "language": "python",
   "name": "python3"
  },
  "language_info": {
   "codemirror_mode": {
    "name": "ipython",
    "version": 3
   },
   "file_extension": ".py",
   "mimetype": "text/x-python",
   "name": "python",
   "nbconvert_exporter": "python",
   "pygments_lexer": "ipython3",
   "version": "3.8.5"
  }
 },
 "nbformat": 4,
 "nbformat_minor": 4
}
