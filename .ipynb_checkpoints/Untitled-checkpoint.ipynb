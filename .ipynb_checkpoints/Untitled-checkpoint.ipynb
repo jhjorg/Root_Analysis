{
 "cells": [
  {
   "cell_type": "markdown",
   "metadata": {},
   "source": [
    "# Are England historically Root(ed) without Joe?\n",
    "\n",
    "### A historical comparison of the dependence of the current England Cricket Team on Joe Root scoring runs\n",
    "\n",
    "At present (September 2021) Joe Root is in the form of his life. The remainder of the England batting line-up, however, is not. The conjecture is that this England Test side is more dependent on Joe Root scoring big runs than nearly any other side in modern cricketing history. A suggested comparison is the reliance of the late 1990's / early 2000's West Indies side on Brian Lara. But is this conjecture borne out in the data? This notebook analyses year-by-year Test batting statistics (appreciating this may not be the most appropriate temporal window available) to determine whether England really are Root(ed) without Joe."
   ]
  },
  {
   "cell_type": "markdown",
   "metadata": {},
   "source": [
    "# Assumptions & Input Data\n",
    "\n",
    "### Governing Assumptions\n",
    "\n",
    "* The assumptions detailed are relevant across:-\n",
    "    * All time periods - no temporal variation is acocunted for\n",
    "    * All teams - no particular adjustment is made for changes in team situation (i.e. new Test playing nations like Afghanistan are treated the same as England and Australia)\n",
    "    * All locations - no delineation is made between home and away matches\n",
    "    * All players - no delineation is made between those players deemed batters, and those not\n",
    "* This analysis considers only Men's Test Cricket currently. A similar statistical analysis for Women's Test Cricket is in the works\n",
    "\n",
    "\n",
    "### Input data\n",
    "* Input data (drawn from CricInfor StatsGuru platform) is assumed to be correct in full, and complete to the latest matches\n",
    "* Total runs scored by each Test playing nation is extracted on a year-by-year basis\n",
    "* Total runs scored by the top 50 run scorers across all test playing nations is extracted on a year-by-year basis. The top 50 has been selected as good representation of the likely top scorers for all nations, thereby capturing data necessary to analyse team reliance\n",
    "* The temporal windowing on year-by-year data (i.e. assessment of calendar years) may not be the most appropriate window available. However, in the first instance, it is the most readily accesible window"
   ]
  },
  {
   "cell_type": "code",
   "execution_count": null,
   "metadata": {},
   "outputs": [],
   "source": []
  }
 ],
 "metadata": {
  "kernelspec": {
   "display_name": "Python 3",
   "language": "python",
   "name": "python3"
  },
  "language_info": {
   "codemirror_mode": {
    "name": "ipython",
    "version": 3
   },
   "file_extension": ".py",
   "mimetype": "text/x-python",
   "name": "python",
   "nbconvert_exporter": "python",
   "pygments_lexer": "ipython3",
   "version": "3.8.5"
  }
 },
 "nbformat": 4,
 "nbformat_minor": 4
}
